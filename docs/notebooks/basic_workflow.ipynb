{
 "cells": [
  {
   "cell_type": "markdown",
   "metadata": {},
   "source": [
    "# Computing Recovery Metrics with `spectral_recovery`"
   ]
  },
  {
   "cell_type": "markdown",
   "metadata": {
    "tags": []
   },
   "source": [
    "This notebook provides a quick, interactive, example for how to start using the `spectral_recovery` package for computing recovery metrics. Specifically, this notebook will work through the steps:\n",
    "\n",
    "1. Reading in timeseries data\n",
    "2. Computing indices\n",
    "3. Defining a restoration site\n",
    "4. Deriving a recovery target\n",
    "5. Plotting a spectral trajectory\n",
    "6. Computing recovery metrics\n",
    "\n",
    "For a more detail explanation of each step and the functions/methods they use, see the documentation page."
   ]
  },
  {
   "cell_type": "code",
   "execution_count": null,
   "metadata": {},
   "outputs": [],
   "source": [
    "!pip install spectral_recovery"
   ]
  },
  {
   "cell_type": "markdown",
   "metadata": {},
   "source": [
    "Once the tool is installed, you can import the package:"
   ]
  },
  {
   "cell_type": "code",
   "execution_count": null,
   "metadata": {
    "tags": []
   },
   "outputs": [],
   "source": [
    "import spectral_recovery as sr\n",
    "import numpy as np"
   ]
  },
  {
   "cell_type": "markdown",
   "metadata": {},
   "source": [
    "## Reading in Timeseries Data and Computing Indices"
   ]
  },
  {
   "cell_type": "markdown",
   "metadata": {},
   "source": [
    "The set of annual composites that we'll be using in this notebook was created using the [GEE BAP tool](https://github.com/saveriofrancini/bap) and is available in the project repository's test_data directory."
   ]
  },
  {
   "cell_type": "code",
   "execution_count": null,
   "metadata": {
    "tags": []
   },
   "outputs": [],
   "source": [
    "timeseries = sr.read_timeseries(\n",
    "    \"test_data/annual_composites/landsat\",\n",
    "    band_names={1: \"blue\", 2: \"green\", 3: \"red\", 4: \"nir\", 5: \"swir16\", 6: \"swir22\"},\n",
    "    array_type=\"dask\"\n",
    ")\n",
    "timeseries"
   ]
  },
  {
   "cell_type": "markdown",
   "metadata": {},
   "source": [
    "If your rasters uses 0 to represent Null data please set these values to NaN before proceeding. The `spectral_recovery` tool expects Null data to be NaN not 0. Leaving 0 values will lead to unexpected behaviour."
   ]
  },
  {
   "cell_type": "code",
   "execution_count": null,
   "metadata": {},
   "outputs": [],
   "source": [
    "timeseries = timeseries.where(timeseries != 0.0, np.nan)"
   ]
  },
  {
   "cell_type": "markdown",
   "metadata": {},
   "source": [
    "When selecting indices you should select the indices which best align with your recovery/restoration goals. For the sake of this example, we will simply compute NBR, NDVI, and SAVI. See the [description of the core indices] in the theoretical basis document for more information on selecting indices."
   ]
  },
  {
   "cell_type": "code",
   "execution_count": null,
   "metadata": {},
   "outputs": [],
   "source": [
    "indices = sr.compute_indices(timeseries, indices=[\"NBR\", \"NDVI\", \"SAVI\"])\n",
    "indices"
   ]
  },
  {
   "cell_type": "markdown",
   "metadata": {
    "tags": []
   },
   "source": [
    "## Defining Restoration Site"
   ]
  },
  {
   "cell_type": "markdown",
   "metadata": {},
   "source": [
    "In this example we'll look at a site of a forest fire that occured in 2005 in Northern British Columbia within the unceeded territory of Saik'uz first nation."
   ]
  },
  {
   "cell_type": "code",
   "execution_count": null,
   "metadata": {
    "tags": []
   },
   "outputs": [],
   "source": [
    "restoration_site = sr.read_restoration_sites(\n",
    "    \"test_data/wildfire_516.gpkg\",\n",
    "    disturbance_start=\"2005\",\n",
    "    restoration_start=\"2006\"\n",
    ")\n",
    "restoration_site"
   ]
  },
  {
   "cell_type": "markdown",
   "metadata": {
    "tags": []
   },
   "source": [
    "### Computing Recovery Metrics"
   ]
  },
  {
   "cell_type": "markdown",
   "metadata": {},
   "source": [
    "Now that we've prepped our index timeseries data and restoration site, we can derive recovery targets:"
   ]
  },
  {
   "cell_type": "code",
   "execution_count": null,
   "metadata": {},
   "outputs": [],
   "source": [
    "hist_polygon_median = sr.targets.median_target(\n",
    "    polygon=restoration_site, \n",
    "    timeseries_data=indices, \n",
    "    reference_start=\"2003\", \n",
    "    reference_end=\"2004\",\n",
    "    scale=\"polygon\",\n",
    ")\n",
    "hist_polygon_median\n"
   ]
  },
  {
   "cell_type": "markdown",
   "metadata": {},
   "source": [
    "### Plotting Spectral Trajectory of Restoration Site"
   ]
  },
  {
   "cell_type": "code",
   "execution_count": null,
   "metadata": {},
   "outputs": [],
   "source": [
    "sr.plot_spectral_trajectory(\n",
    "    timeseries_data=indices,\n",
    "    restoration_polygons=restoration_site,\n",
    "    recovery_target=hist_polygon_median,\n",
    "    reference_start=\"2003\", \n",
    "    reference_end=\"2004\", \n",
    ")"
   ]
  },
  {
   "cell_type": "markdown",
   "metadata": {},
   "source": [
    "## Computing Recovery Metrics"
   ]
  },
  {
   "cell_type": "code",
   "execution_count": null,
   "metadata": {},
   "outputs": [],
   "source": [
    "metrics = sr.compute_metrics(\n",
    "    metrics=[\"Y2R\", \"dNBR\", \"R80P\", \"YrYr\"],\n",
    "    restoration_polygons=restoration_site,\n",
    "    timeseries_data=indices,\n",
    "    recovery_target=hist_polygon_median,\n",
    "    timestep=4\n",
    ")\n",
    "metrics"
   ]
  },
  {
   "cell_type": "markdown",
   "metadata": {
    "tags": []
   },
   "source": [
    "## Viewing Recovery Metrics"
   ]
  },
  {
   "cell_type": "code",
   "execution_count": null,
   "metadata": {
    "tags": []
   },
   "outputs": [],
   "source": [
    "import matplotlib.pyplot as plt\n",
    "\n",
    "def plot_metrics(metric):\n",
    "    \"\"\" Plot the three bands in a single figure. \"\"\"\n",
    "    fig, axes = plt.subplots(ncols=3, sharex=True, sharey=True, figsize=[15, 4])\n",
    "    for i in range(3):\n",
    "        metric[0,i,:,:].plot(ax=axes[i])\n",
    "        axes[i].set_title(f\"{str(metric.metric.values[0])}: {metric['band'].values[i]}\")\n",
    "        axes[i].set_xlabel(\"X coordinate\")\n",
    "        if i == 0:\n",
    "            axes[i].set_ylabel(\"Y coordinate\")\n",
    "        else:\n",
    "            axes[i].set_ylabel(\"\")\n",
    "        plt.tight_layout()\n"
   ]
  },
  {
   "cell_type": "markdown",
   "metadata": {},
   "source": [
    "Once you've computed your desired metrics, you can start visualization and analysis."
   ]
  },
  {
   "cell_type": "markdown",
   "metadata": {},
   "source": [
    "### Y2R"
   ]
  },
  {
   "cell_type": "code",
   "execution_count": null,
   "metadata": {
    "tags": []
   },
   "outputs": [],
   "source": [
    "y2r = metrics.sel(metric=[\"Y2R\"])\n",
    "y2r_unrecovered_changed = y2r.where(y2r != -9999, -10)\n",
    "plot_metrics(y2r_unrecovered_changed)"
   ]
  },
  {
   "cell_type": "markdown",
   "metadata": {},
   "source": [
    "Notice that before plotting Y2R we changed -9999 values to -10. Any Y2R pixels that have -9999 values are pixels that have not yet recovered relative to the recovery target. We changed the value to make visualizations easier."
   ]
  },
  {
   "cell_type": "markdown",
   "metadata": {
    "tags": []
   },
   "source": [
    "### R80P"
   ]
  },
  {
   "cell_type": "code",
   "execution_count": null,
   "metadata": {
    "tags": []
   },
   "outputs": [],
   "source": [
    "r80p = metrics.sel(metric=[\"R80P\"])\n",
    "plot_metrics(r80p)"
   ]
  },
  {
   "cell_type": "markdown",
   "metadata": {},
   "source": [
    "### YrYr"
   ]
  },
  {
   "cell_type": "code",
   "execution_count": null,
   "metadata": {
    "tags": []
   },
   "outputs": [],
   "source": [
    "yryr = metrics.sel(metric=[\"YrYr\"])\n",
    "plot_metrics(yryr)"
   ]
  },
  {
   "cell_type": "markdown",
   "metadata": {
    "tags": []
   },
   "source": [
    "### dNBR"
   ]
  },
  {
   "cell_type": "code",
   "execution_count": null,
   "metadata": {
    "tags": []
   },
   "outputs": [],
   "source": [
    "dNBR = metrics.sel(metric=[\"dNBR\"])\n",
    "plot_metrics(dNBR)"
   ]
  },
  {
   "cell_type": "markdown",
   "metadata": {},
   "source": [
    "###  Writing Results\n",
    "\n",
    "To write your metric results to raster files, the simpliest way is to use `rioxarray`'s `to_raster` function:\n"
   ]
  },
  {
   "cell_type": "code",
   "execution_count": null,
   "metadata": {},
   "outputs": [],
   "source": [
    "# write out y2r results to file:\n",
    "y2r.sel(metric=\"Y2R\").rio.to_raster(\"./y2r.tif\")"
   ]
  }
 ],
 "metadata": {
  "interpreter": {
   "hash": "dcabc692b03f7e019ab87f9b1754935a4d34e07051f12acb5236747821ea6542"
  },
  "kernelspec": {
   "display_name": "Python 3 (ipykernel)",
   "language": "python",
   "name": "python3"
  },
  "language_info": {
   "codemirror_mode": {
    "name": "ipython",
    "version": 3
   },
   "file_extension": ".py",
   "mimetype": "text/x-python",
   "name": "python",
   "nbconvert_exporter": "python",
   "pygments_lexer": "ipython3",
   "version": "3.11.2"
  }
 },
 "nbformat": 4,
 "nbformat_minor": 4
}
