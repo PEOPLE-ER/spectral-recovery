{
 "cells": [
  {
   "cell_type": "markdown",
   "metadata": {},
   "source": [
    "This notebook contains code to replicate the workflow and results presented in Section 3.2 of \"spectral-recovery: A Python package for spectral recovery analysis of forest ecosystems\".\n",
    "\n",
    "The workflow can be broken down into 4 steps:\n",
    "\n",
    "1. Read timeseries data/compute indices\n",
    "2. Define the restoration site\n",
    "3. Compute a recovery target\n",
    "4. Compute recovery metrics"
   ]
  },
  {
   "cell_type": "code",
   "execution_count": null,
   "metadata": {},
   "outputs": [],
   "source": [
    "!pip install spectral_recovery"
   ]
  },
  {
   "cell_type": "code",
   "execution_count": null,
   "metadata": {},
   "outputs": [],
   "source": [
    "import spectral_recovery as sr\n",
    "from spectral_recovery import data"
   ]
  },
  {
   "cell_type": "code",
   "execution_count": null,
   "metadata": {},
   "outputs": [],
   "source": [
    "# 1. Read in the timeseries data and compute indices\n",
    "ts = sr.read_timeseries(\n",
    "    paths=data.bc06_wildfire_landsat_bap_timeseries(),\n",
    "    band_names={1: \"blue\", 2: \"green\", 3: \"red\", 4: \"nir\", 5: \"swir16\", 6: \"swir22\"},\n",
    ")\n",
    "indices = sr.compute_indices(ts, indices=[\"NBR\"])"
   ]
  },
  {
   "cell_type": "code",
   "execution_count": null,
   "metadata": {},
   "outputs": [],
   "source": [
    "# 2. Define the restoration site\n",
    "rest_site = sr.read_restoration_sites(\n",
    "    path=data.bc06_wildfire_restoration_site(),\n",
    "    dist_rest_years={0: [2006, 2007]}\n",
    ")"
   ]
  },
  {
   "cell_type": "code",
   "execution_count": null,
   "metadata": {},
   "outputs": [],
   "source": [
    "import matplotlib.pyplot as plt\n",
    "\n",
    "fig, axs = plt.subplots(1, 5, figsize=(15, 12))\n",
    "axs = axs.flatten()\n",
    "\n",
    "# Plot the band data\n",
    "rgb1 = ts.sel(band=[\"R\", \"G\", \"B\"], time=\"2005-01-01\")\n",
    "rgb1.plot.imshow(ax=axs[0])\n",
    "rest_site.to_crs(indices.spatial_ref.crs_wkt).plot(ax=axs[0], edgecolor='red', facecolor='none', linewidth=2)\n",
    "axs[0].set_title(\"2005\")\n",
    "\n",
    "rgb1 = ts.sel(band=[\"R\", \"G\", \"B\"], time=\"2006-01-01\")\n",
    "rgb1.plot.imshow(ax=axs[1])\n",
    "rest_site.to_crs(indices.spatial_ref.crs_wkt).plot(ax=axs[1], edgecolor='red', facecolor='none', linewidth=2)\n",
    "axs[1].set_title(\"2006\")\n",
    "\n",
    "rgb2 = ts.sel(band=[\"R\", \"G\", \"B\"], time=\"2007-01-01\")\n",
    "rgb2.plot.imshow(ax=axs[2])\n",
    "rest_site.to_crs(indices.spatial_ref.crs_wkt).plot(ax=axs[2], edgecolor='red', facecolor='none', linewidth=2)\n",
    "axs[2].set_title(\"2007 (post-fire)\")\n",
    "\n",
    "rgb3 = ts.sel(band=[\"R\", \"G\", \"B\"], time=\"2008-01-01\")\n",
    "rgb3.plot.imshow(ax=axs[3])\n",
    "rest_site.to_crs(indices.spatial_ref.crs_wkt).plot(ax=axs[3], edgecolor='red', facecolor='none', linewidth=2)\n",
    "axs[3].set_title(\"2008\")\n",
    "\n",
    "rgb4 = ts.sel(band=[\"R\", \"G\", \"B\"], time=\"2009-01-01\")\n",
    "rgb4.plot.imshow(ax=axs[4])\n",
    "rest_site.to_crs(indices.spatial_ref.crs_wkt).plot(ax=axs[4], edgecolor='red', facecolor='none', linewidth=2)\n",
    "axs[4].set_title(\"2009\")"
   ]
  },
  {
   "cell_type": "code",
   "execution_count": null,
   "metadata": {},
   "outputs": [],
   "source": [
    "# 3. Compute a historic median recovery target\n",
    "target = sr.targets.historic.median(\n",
    "    restoration_sites=rest_site,\n",
    "    timeseries_data=indices,\n",
    "    reference_years={0:[2003, 2005]},\n",
    "    scale=\"pixel\"\n",
    ")\n",
    "target"
   ]
  },
  {
   "cell_type": "code",
   "execution_count": null,
   "metadata": {},
   "outputs": [],
   "source": [
    "# 4. Compute R80P and Y2R recovery metrics \n",
    "metrics = sr.compute_metrics(\n",
    "    metrics=[\"dNBR\", \"R80P\", \"YrYr\", \"Y2R\"],\n",
    "    restoration_sites=rest_site,\n",
    "    timeseries_data=indices,\n",
    "    recovery_targets=target, \n",
    ")\n",
    "metrics"
   ]
  },
  {
   "cell_type": "code",
   "execution_count": null,
   "metadata": {},
   "outputs": [],
   "source": [
    "import matplotlib.pyplot as plt\n",
    "import numpy as np\n",
    "import xarray as xr\n",
    "\n",
    "fig, axs = plt.subplots(1, 4, figsize=(4*4, 4*1))\n",
    "axs = axs.flatten()\n",
    "\n",
    "# Plot dIR\n",
    "img = metrics[0].sel(metric=\"dNBR\", band=\"NBR\")\n",
    "im = axs[0].imshow(img, cmap='RdYlGn', vmax=\"0.5\", vmin=\"-0.5\")\n",
    "axs[0].set_title(\"dNBR (2007-2012)\")\n",
    "axs[0].axis('off')\n",
    "plt.colorbar(im, ax=axs[0], fraction=0.046, pad=0.04)\n",
    "\n",
    "# Plot R80P\n",
    "img = metrics[0].sel(metric=\"R80P\", band=\"NBR\")\n",
    "im = axs[1].imshow(img, cmap='YlGn', vmax=\"1\", vmin=\"0\")\n",
    "axs[1].set_title(\"R80P (2007-2012)\")\n",
    "axs[1].axis('off')\n",
    "plt.colorbar(im, ax=axs[1], fraction=0.046, pad=0.04)\n",
    "\n",
    "# Plot YrYr\n",
    "img = metrics[0].sel(metric=\"YrYr\", band=\"NBR\")\n",
    "im = axs[2].imshow(img, cmap='RdYlGn', vmax=\"0.15\", vmin=\"-0.15\")\n",
    "axs[2].set_title(f'YrYr (2007-2012)')\n",
    "axs[2].axis('off')\n",
    "plt.colorbar(im, ax=axs[2], fraction=0.046, pad=0.04)\n",
    "\n",
    "# Plot Y2R (without unrecovered pixels)\n",
    "img = metrics[0].sel(metric=\"Y2R\", band=\"NBR\")\n",
    "img_nur = xr.where(img < 0, np.nan, img)\n",
    "im = axs[3].imshow(img_nur, cmap='Greens_r')\n",
    "# Plot unrecovered Y2R pixels\n",
    "img_unrec = xr.where(img == -9999, 1, np.nan)\n",
    "im_unrec= axs[3].imshow(img_unrec, cmap='bwr_r', interpolation='nearest')\n",
    "axs[3].set_title(\"Y2R (2007-2024)\")\n",
    "axs[3].axis('off')\n",
    "plt.colorbar(im, ax=axs[3], fraction=0.046, pad=0.04)"
   ]
  },
  {
   "cell_type": "markdown",
   "metadata": {},
   "source": [
    "You can also write the results to file:"
   ]
  },
  {
   "cell_type": "code",
   "execution_count": null,
   "metadata": {},
   "outputs": [],
   "source": [
    "# How to write results to TIFs? \n",
    "\n",
    "# Index the `metrics` variable by the polygon number (e.g 0),\n",
    "# select the metric or band you want to write with `sel()`\n",
    "# then use rioxarray's `to_raster` function to write:\n",
    "metrics[0].sel(metric=\"R80P\").rio.to_raster(\"R80P_write_test.tif\")"
   ]
  }
 ],
 "metadata": {
  "kernelspec": {
   "display_name": ".venv",
   "language": "python",
   "name": "python3"
  },
  "language_info": {
   "codemirror_mode": {
    "name": "ipython",
    "version": 3
   },
   "file_extension": ".py",
   "mimetype": "text/x-python",
   "name": "python",
   "nbconvert_exporter": "python",
   "pygments_lexer": "ipython3",
   "version": "3.11.2"
  }
 },
 "nbformat": 4,
 "nbformat_minor": 2
}
